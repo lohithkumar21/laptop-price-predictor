{
 "cells": [
  {
   "cell_type": "code",
   "execution_count": 1,
   "metadata": {},
   "outputs": [],
   "source": [
    "from pysmartprice.base import SmartPrice"
   ]
  },
  {
   "cell_type": "code",
   "execution_count": 2,
   "metadata": {},
   "outputs": [],
   "source": [
    "smartprice = SmartPrice()"
   ]
  },
  {
   "cell_type": "code",
   "execution_count": 3,
   "metadata": {},
   "outputs": [],
   "source": [
    "results = smartprice.search('LAPTOPS')"
   ]
  },
  {
   "cell_type": "code",
   "execution_count": 4,
   "metadata": {},
   "outputs": [],
   "source": [
    "import pandas as pd"
   ]
  },
  {
   "cell_type": "code",
   "execution_count": 5,
   "metadata": {},
   "outputs": [],
   "source": [
    "ls = []\n",
    "for i in range(len(results)):\n",
    "    ls.append(results[i].dumptojson)"
   ]
  },
  {
   "cell_type": "code",
   "execution_count": 6,
   "metadata": {},
   "outputs": [],
   "source": [
    "df=pd.DataFrame(ls)"
   ]
  },
  {
   "cell_type": "code",
   "execution_count": 7,
   "metadata": {},
   "outputs": [
    {
     "name": "stdout",
     "output_type": "stream",
     "text": [
      "                                                    img  \\\n",
      "0     https://assets.mspimages.in/logos/mysmartprice...   \n",
      "1     https://assets.mspimages.in/logos/mysmartprice...   \n",
      "2     https://assets.mspimages.in/logos/mysmartprice...   \n",
      "3     https://assets.mspimages.in/logos/mysmartprice...   \n",
      "4     https://assets.mspimages.in/logos/mysmartprice...   \n",
      "...                                                 ...   \n",
      "7903  https://assets.mspimages.in/logos/mysmartprice...   \n",
      "7904  https://assets.mspimages.in/logos/mysmartprice...   \n",
      "7905  https://assets.mspimages.in/logos/mysmartprice...   \n",
      "7906  https://assets.mspimages.in/logos/mysmartprice...   \n",
      "7907  https://assets.mspimages.in/logos/mysmartprice...   \n",
      "\n",
      "                                                  title  \\\n",
      "0     \\n                    Apple MacBook Air M1 MGN...   \n",
      "1     \\n                    Apple MacBook Air M1 MGN...   \n",
      "2     \\n                    HP 14s-dy2508TU (6X360PA...   \n",
      "3     \\n                    Apple MacBook Air MQD32H...   \n",
      "4     \\n                    Apple MacBook Air M1 MGN...   \n",
      "...                                                 ...   \n",
      "7903  \\n                    Crucial (C27201504-23) D...   \n",
      "7904  \\n                    Crucial (C27201504-15)DD...   \n",
      "7905  \\n                    Plextor M6e (PX-AG128M6e...   \n",
      "7906  \\n                    HP Pavilion 500-082in La...   \n",
      "7907  \\n                    OWC Aura Pro (OWCSSDAP11...   \n",
      "\n",
      "                                                    url best_price product_id  \n",
      "0     https://www.mysmartprice.com/computer/apple-ma...     71,990             \n",
      "1     https://www.mysmartprice.com/computer/apple-ma...     99,990             \n",
      "2     https://www.mysmartprice.com/computer/hp-14s-d...     37,499             \n",
      "3     https://www.mysmartprice.com/computer/apple-ma...     67,990             \n",
      "4     https://www.mysmartprice.com/computer/apple-ma...     80,990             \n",
      "...                                                 ...        ...        ...  \n",
      "7903  https://www.mysmartprice.com/computer/crucial-...      1,400             \n",
      "7904  https://www.mysmartprice.com/computer/crucial-...        600             \n",
      "7905  https://www.mysmartprice.com/computer/plextor-...         NA             \n",
      "7906  https://www.mysmartprice.com/computer/hp-pavil...         NA             \n",
      "7907  https://www.mysmartprice.com/computer/aura-pro...         NA             \n",
      "\n",
      "[7908 rows x 5 columns]\n"
     ]
    }
   ],
   "source": [
    "print(df)"
   ]
  },
  {
   "cell_type": "code",
   "execution_count": 8,
   "metadata": {},
   "outputs": [],
   "source": [
    "import openpyxl"
   ]
  },
  {
   "cell_type": "code",
   "execution_count": 9,
   "metadata": {},
   "outputs": [
    {
     "name": "stdout",
     "output_type": "stream",
     "text": [
      "DataFrame has been written to output.xlsx in sheet Sheet1\n"
     ]
    }
   ],
   "source": [
    "# Specify the file name and sheet name\n",
    "file_name = 'output.xlsx'\n",
    "sheet_name = 'Sheet1'\n",
    "# Write the DataFrame to an Excel file\n",
    "df.to_excel(file_name, sheet_name=sheet_name, index=False)\n",
    "print(f\"DataFrame has been written to {file_name} in sheet {sheet_name}\")"
   ]
  },
  {
   "cell_type": "code",
   "execution_count": 10,
   "metadata": {},
   "outputs": [],
   "source": [
    "dataset = pd.read_csv('./out.csv')\n"
   ]
  },
  {
   "cell_type": "code",
   "execution_count": 11,
   "metadata": {},
   "outputs": [
    {
     "data": {
      "text/html": [
       "<div>\n",
       "<style scoped>\n",
       "    .dataframe tbody tr th:only-of-type {\n",
       "        vertical-align: middle;\n",
       "    }\n",
       "\n",
       "    .dataframe tbody tr th {\n",
       "        vertical-align: top;\n",
       "    }\n",
       "\n",
       "    .dataframe thead th {\n",
       "        text-align: right;\n",
       "    }\n",
       "</style>\n",
       "<table border=\"1\" class=\"dataframe\">\n",
       "  <thead>\n",
       "    <tr style=\"text-align: right;\">\n",
       "      <th></th>\n",
       "      <th>img</th>\n",
       "      <th>title</th>\n",
       "      <th>url</th>\n",
       "      <th>best_price</th>\n",
       "      <th>product_id</th>\n",
       "    </tr>\n",
       "  </thead>\n",
       "  <tbody>\n",
       "    <tr>\n",
       "      <th>0</th>\n",
       "      <td>https://assets.mspimages.in/logos/mysmartprice...</td>\n",
       "      <td>\\n                    Apple MacBook Air M1 MGN...</td>\n",
       "      <td>https://www.mysmartprice.com/computer/apple-ma...</td>\n",
       "      <td>71,990</td>\n",
       "      <td>NaN</td>\n",
       "    </tr>\n",
       "    <tr>\n",
       "      <th>1</th>\n",
       "      <td>https://assets.mspimages.in/logos/mysmartprice...</td>\n",
       "      <td>\\n                    Apple MacBook Air M1 MGN...</td>\n",
       "      <td>https://www.mysmartprice.com/computer/apple-ma...</td>\n",
       "      <td>99,990</td>\n",
       "      <td>NaN</td>\n",
       "    </tr>\n",
       "    <tr>\n",
       "      <th>2</th>\n",
       "      <td>https://assets.mspimages.in/logos/mysmartprice...</td>\n",
       "      <td>\\n                    Apple MacBook Air MQD32H...</td>\n",
       "      <td>https://www.mysmartprice.com/computer/apple-ma...</td>\n",
       "      <td>67,990</td>\n",
       "      <td>NaN</td>\n",
       "    </tr>\n",
       "    <tr>\n",
       "      <th>3</th>\n",
       "      <td>https://assets.mspimages.in/logos/mysmartprice...</td>\n",
       "      <td>\\n                    Apple MacBook Air M1 MGN...</td>\n",
       "      <td>https://www.mysmartprice.com/computer/apple-ma...</td>\n",
       "      <td>80,990</td>\n",
       "      <td>NaN</td>\n",
       "    </tr>\n",
       "    <tr>\n",
       "      <th>4</th>\n",
       "      <td>https://assets.mspimages.in/logos/mysmartprice...</td>\n",
       "      <td>\\n                    Apple MacBook Air M1 MGN...</td>\n",
       "      <td>https://www.mysmartprice.com/computer/apple-ma...</td>\n",
       "      <td>72,590</td>\n",
       "      <td>NaN</td>\n",
       "    </tr>\n",
       "  </tbody>\n",
       "</table>\n",
       "</div>"
      ],
      "text/plain": [
       "                                                 img  \\\n",
       "0  https://assets.mspimages.in/logos/mysmartprice...   \n",
       "1  https://assets.mspimages.in/logos/mysmartprice...   \n",
       "2  https://assets.mspimages.in/logos/mysmartprice...   \n",
       "3  https://assets.mspimages.in/logos/mysmartprice...   \n",
       "4  https://assets.mspimages.in/logos/mysmartprice...   \n",
       "\n",
       "                                               title  \\\n",
       "0  \\n                    Apple MacBook Air M1 MGN...   \n",
       "1  \\n                    Apple MacBook Air M1 MGN...   \n",
       "2  \\n                    Apple MacBook Air MQD32H...   \n",
       "3  \\n                    Apple MacBook Air M1 MGN...   \n",
       "4  \\n                    Apple MacBook Air M1 MGN...   \n",
       "\n",
       "                                                 url best_price  product_id  \n",
       "0  https://www.mysmartprice.com/computer/apple-ma...     71,990         NaN  \n",
       "1  https://www.mysmartprice.com/computer/apple-ma...     99,990         NaN  \n",
       "2  https://www.mysmartprice.com/computer/apple-ma...     67,990         NaN  \n",
       "3  https://www.mysmartprice.com/computer/apple-ma...     80,990         NaN  \n",
       "4  https://www.mysmartprice.com/computer/apple-ma...     72,590         NaN  "
      ]
     },
     "execution_count": 11,
     "metadata": {},
     "output_type": "execute_result"
    }
   ],
   "source": [
    "dataset.head()"
   ]
  },
  {
   "cell_type": "code",
   "execution_count": 12,
   "metadata": {},
   "outputs": [
    {
     "data": {
      "text/plain": [
       "img              0\n",
       "title            0\n",
       "url              0\n",
       "best_price      50\n",
       "product_id    7882\n",
       "dtype: int64"
      ]
     },
     "execution_count": 12,
     "metadata": {},
     "output_type": "execute_result"
    }
   ],
   "source": [
    "dataset.isnull().sum()"
   ]
  },
  {
   "cell_type": "code",
   "execution_count": 13,
   "metadata": {},
   "outputs": [
    {
     "data": {
      "text/plain": [
       "(7882, 5)"
      ]
     },
     "execution_count": 13,
     "metadata": {},
     "output_type": "execute_result"
    }
   ],
   "source": [
    "dataset.shape"
   ]
  },
  {
   "cell_type": "code",
   "execution_count": 14,
   "metadata": {},
   "outputs": [
    {
     "data": {
      "text/html": [
       "<div>\n",
       "<style scoped>\n",
       "    .dataframe tbody tr th:only-of-type {\n",
       "        vertical-align: middle;\n",
       "    }\n",
       "\n",
       "    .dataframe tbody tr th {\n",
       "        vertical-align: top;\n",
       "    }\n",
       "\n",
       "    .dataframe thead th {\n",
       "        text-align: right;\n",
       "    }\n",
       "</style>\n",
       "<table border=\"1\" class=\"dataframe\">\n",
       "  <thead>\n",
       "    <tr style=\"text-align: right;\">\n",
       "      <th></th>\n",
       "      <th>img</th>\n",
       "      <th>title</th>\n",
       "      <th>url</th>\n",
       "      <th>best_price</th>\n",
       "    </tr>\n",
       "  </thead>\n",
       "  <tbody>\n",
       "    <tr>\n",
       "      <th>0</th>\n",
       "      <td>https://assets.mspimages.in/logos/mysmartprice...</td>\n",
       "      <td>\\n                    Apple MacBook Air M1 MGN...</td>\n",
       "      <td>https://www.mysmartprice.com/computer/apple-ma...</td>\n",
       "      <td>71,990</td>\n",
       "    </tr>\n",
       "    <tr>\n",
       "      <th>1</th>\n",
       "      <td>https://assets.mspimages.in/logos/mysmartprice...</td>\n",
       "      <td>\\n                    Apple MacBook Air M1 MGN...</td>\n",
       "      <td>https://www.mysmartprice.com/computer/apple-ma...</td>\n",
       "      <td>99,990</td>\n",
       "    </tr>\n",
       "    <tr>\n",
       "      <th>2</th>\n",
       "      <td>https://assets.mspimages.in/logos/mysmartprice...</td>\n",
       "      <td>\\n                    Apple MacBook Air MQD32H...</td>\n",
       "      <td>https://www.mysmartprice.com/computer/apple-ma...</td>\n",
       "      <td>67,990</td>\n",
       "    </tr>\n",
       "    <tr>\n",
       "      <th>3</th>\n",
       "      <td>https://assets.mspimages.in/logos/mysmartprice...</td>\n",
       "      <td>\\n                    Apple MacBook Air M1 MGN...</td>\n",
       "      <td>https://www.mysmartprice.com/computer/apple-ma...</td>\n",
       "      <td>80,990</td>\n",
       "    </tr>\n",
       "    <tr>\n",
       "      <th>4</th>\n",
       "      <td>https://assets.mspimages.in/logos/mysmartprice...</td>\n",
       "      <td>\\n                    Apple MacBook Air M1 MGN...</td>\n",
       "      <td>https://www.mysmartprice.com/computer/apple-ma...</td>\n",
       "      <td>72,590</td>\n",
       "    </tr>\n",
       "  </tbody>\n",
       "</table>\n",
       "</div>"
      ],
      "text/plain": [
       "                                                 img  \\\n",
       "0  https://assets.mspimages.in/logos/mysmartprice...   \n",
       "1  https://assets.mspimages.in/logos/mysmartprice...   \n",
       "2  https://assets.mspimages.in/logos/mysmartprice...   \n",
       "3  https://assets.mspimages.in/logos/mysmartprice...   \n",
       "4  https://assets.mspimages.in/logos/mysmartprice...   \n",
       "\n",
       "                                               title  \\\n",
       "0  \\n                    Apple MacBook Air M1 MGN...   \n",
       "1  \\n                    Apple MacBook Air M1 MGN...   \n",
       "2  \\n                    Apple MacBook Air MQD32H...   \n",
       "3  \\n                    Apple MacBook Air M1 MGN...   \n",
       "4  \\n                    Apple MacBook Air M1 MGN...   \n",
       "\n",
       "                                                 url best_price  \n",
       "0  https://www.mysmartprice.com/computer/apple-ma...     71,990  \n",
       "1  https://www.mysmartprice.com/computer/apple-ma...     99,990  \n",
       "2  https://www.mysmartprice.com/computer/apple-ma...     67,990  \n",
       "3  https://www.mysmartprice.com/computer/apple-ma...     80,990  \n",
       "4  https://www.mysmartprice.com/computer/apple-ma...     72,590  "
      ]
     },
     "execution_count": 14,
     "metadata": {},
     "output_type": "execute_result"
    }
   ],
   "source": [
    "dataset = dataset.drop(columns=['product_id'])\n",
    "dataset.head()"
   ]
  },
  {
   "cell_type": "code",
   "execution_count": 15,
   "metadata": {},
   "outputs": [
    {
     "data": {
      "text/html": [
       "<div>\n",
       "<style scoped>\n",
       "    .dataframe tbody tr th:only-of-type {\n",
       "        vertical-align: middle;\n",
       "    }\n",
       "\n",
       "    .dataframe tbody tr th {\n",
       "        vertical-align: top;\n",
       "    }\n",
       "\n",
       "    .dataframe thead th {\n",
       "        text-align: right;\n",
       "    }\n",
       "</style>\n",
       "<table border=\"1\" class=\"dataframe\">\n",
       "  <thead>\n",
       "    <tr style=\"text-align: right;\">\n",
       "      <th></th>\n",
       "      <th>img</th>\n",
       "      <th>title</th>\n",
       "      <th>url</th>\n",
       "      <th>best_price</th>\n",
       "    </tr>\n",
       "  </thead>\n",
       "  <tbody>\n",
       "    <tr>\n",
       "      <th>0</th>\n",
       "      <td>https://assets.mspimages.in/logos/mysmartprice...</td>\n",
       "      <td>Apple MacBook Air M1 MGND3...</td>\n",
       "      <td>https://www.mysmartprice.com/computer/apple-ma...</td>\n",
       "      <td>71,990</td>\n",
       "    </tr>\n",
       "    <tr>\n",
       "      <th>1</th>\n",
       "      <td>https://assets.mspimages.in/logos/mysmartprice...</td>\n",
       "      <td>Apple MacBook Air M1 MGNA3...</td>\n",
       "      <td>https://www.mysmartprice.com/computer/apple-ma...</td>\n",
       "      <td>99,990</td>\n",
       "    </tr>\n",
       "    <tr>\n",
       "      <th>2</th>\n",
       "      <td>https://assets.mspimages.in/logos/mysmartprice...</td>\n",
       "      <td>Apple MacBook Air MQD32HN/...</td>\n",
       "      <td>https://www.mysmartprice.com/computer/apple-ma...</td>\n",
       "      <td>67,990</td>\n",
       "    </tr>\n",
       "    <tr>\n",
       "      <th>3</th>\n",
       "      <td>https://assets.mspimages.in/logos/mysmartprice...</td>\n",
       "      <td>Apple MacBook Air M1 MGN93...</td>\n",
       "      <td>https://www.mysmartprice.com/computer/apple-ma...</td>\n",
       "      <td>80,990</td>\n",
       "    </tr>\n",
       "    <tr>\n",
       "      <th>4</th>\n",
       "      <td>https://assets.mspimages.in/logos/mysmartprice...</td>\n",
       "      <td>Apple MacBook Air M1 MGN63...</td>\n",
       "      <td>https://www.mysmartprice.com/computer/apple-ma...</td>\n",
       "      <td>72,590</td>\n",
       "    </tr>\n",
       "  </tbody>\n",
       "</table>\n",
       "</div>"
      ],
      "text/plain": [
       "                                                 img  \\\n",
       "0  https://assets.mspimages.in/logos/mysmartprice...   \n",
       "1  https://assets.mspimages.in/logos/mysmartprice...   \n",
       "2  https://assets.mspimages.in/logos/mysmartprice...   \n",
       "3  https://assets.mspimages.in/logos/mysmartprice...   \n",
       "4  https://assets.mspimages.in/logos/mysmartprice...   \n",
       "\n",
       "                                               title  \\\n",
       "0                      Apple MacBook Air M1 MGND3...   \n",
       "1                      Apple MacBook Air M1 MGNA3...   \n",
       "2                      Apple MacBook Air MQD32HN/...   \n",
       "3                      Apple MacBook Air M1 MGN93...   \n",
       "4                      Apple MacBook Air M1 MGN63...   \n",
       "\n",
       "                                                 url best_price  \n",
       "0  https://www.mysmartprice.com/computer/apple-ma...     71,990  \n",
       "1  https://www.mysmartprice.com/computer/apple-ma...     99,990  \n",
       "2  https://www.mysmartprice.com/computer/apple-ma...     67,990  \n",
       "3  https://www.mysmartprice.com/computer/apple-ma...     80,990  \n",
       "4  https://www.mysmartprice.com/computer/apple-ma...     72,590  "
      ]
     },
     "execution_count": 15,
     "metadata": {},
     "output_type": "execute_result"
    }
   ],
   "source": [
    "dataset['title'] = dataset['title'].str.replace('\\n', '')\n",
    "dataset.head()"
   ]
  },
  {
   "cell_type": "code",
   "execution_count": 16,
   "metadata": {},
   "outputs": [
    {
     "data": {
      "text/plain": [
       "0                           Apple MacBook Air M1 MGND3...\n",
       "1                           Apple MacBook Air M1 MGNA3...\n",
       "2                           Apple MacBook Air MQD32HN/...\n",
       "3                           Apple MacBook Air M1 MGN93...\n",
       "4                           Apple MacBook Air M1 MGN63...\n",
       "                              ...                        \n",
       "7877                        Crucial (C27201504-23) DDR...\n",
       "7878                        Crucial (C27201504-15)DDR ...\n",
       "7879                        Plextor M6e (PX-AG128M6e) ...\n",
       "7880                        HP Pavilion 500-082in Lapt...\n",
       "7881                        OWC Aura Pro (OWCSSDAP116G...\n",
       "Name: title, Length: 7882, dtype: object"
      ]
     },
     "execution_count": 16,
     "metadata": {},
     "output_type": "execute_result"
    }
   ],
   "source": [
    "dataset['title']"
   ]
  },
  {
   "cell_type": "code",
   "execution_count": 17,
   "metadata": {},
   "outputs": [
    {
     "data": {
      "text/html": [
       "<div>\n",
       "<style scoped>\n",
       "    .dataframe tbody tr th:only-of-type {\n",
       "        vertical-align: middle;\n",
       "    }\n",
       "\n",
       "    .dataframe tbody tr th {\n",
       "        vertical-align: top;\n",
       "    }\n",
       "\n",
       "    .dataframe thead th {\n",
       "        text-align: right;\n",
       "    }\n",
       "</style>\n",
       "<table border=\"1\" class=\"dataframe\">\n",
       "  <thead>\n",
       "    <tr style=\"text-align: right;\">\n",
       "      <th></th>\n",
       "      <th>img</th>\n",
       "      <th>title</th>\n",
       "      <th>url</th>\n",
       "      <th>best_price</th>\n",
       "      <th>Company</th>\n",
       "    </tr>\n",
       "  </thead>\n",
       "  <tbody>\n",
       "    <tr>\n",
       "      <th>0</th>\n",
       "      <td>https://assets.mspimages.in/logos/mysmartprice...</td>\n",
       "      <td>Apple MacBook Air M1 MGND3...</td>\n",
       "      <td>https://www.mysmartprice.com/computer/apple-ma...</td>\n",
       "      <td>71,990</td>\n",
       "      <td>Apple</td>\n",
       "    </tr>\n",
       "    <tr>\n",
       "      <th>1</th>\n",
       "      <td>https://assets.mspimages.in/logos/mysmartprice...</td>\n",
       "      <td>Apple MacBook Air M1 MGNA3...</td>\n",
       "      <td>https://www.mysmartprice.com/computer/apple-ma...</td>\n",
       "      <td>99,990</td>\n",
       "      <td>Apple</td>\n",
       "    </tr>\n",
       "    <tr>\n",
       "      <th>2</th>\n",
       "      <td>https://assets.mspimages.in/logos/mysmartprice...</td>\n",
       "      <td>Apple MacBook Air MQD32HN/...</td>\n",
       "      <td>https://www.mysmartprice.com/computer/apple-ma...</td>\n",
       "      <td>67,990</td>\n",
       "      <td>Apple</td>\n",
       "    </tr>\n",
       "    <tr>\n",
       "      <th>3</th>\n",
       "      <td>https://assets.mspimages.in/logos/mysmartprice...</td>\n",
       "      <td>Apple MacBook Air M1 MGN93...</td>\n",
       "      <td>https://www.mysmartprice.com/computer/apple-ma...</td>\n",
       "      <td>80,990</td>\n",
       "      <td>Apple</td>\n",
       "    </tr>\n",
       "    <tr>\n",
       "      <th>4</th>\n",
       "      <td>https://assets.mspimages.in/logos/mysmartprice...</td>\n",
       "      <td>Apple MacBook Air M1 MGN63...</td>\n",
       "      <td>https://www.mysmartprice.com/computer/apple-ma...</td>\n",
       "      <td>72,590</td>\n",
       "      <td>Apple</td>\n",
       "    </tr>\n",
       "  </tbody>\n",
       "</table>\n",
       "</div>"
      ],
      "text/plain": [
       "                                                 img  \\\n",
       "0  https://assets.mspimages.in/logos/mysmartprice...   \n",
       "1  https://assets.mspimages.in/logos/mysmartprice...   \n",
       "2  https://assets.mspimages.in/logos/mysmartprice...   \n",
       "3  https://assets.mspimages.in/logos/mysmartprice...   \n",
       "4  https://assets.mspimages.in/logos/mysmartprice...   \n",
       "\n",
       "                                               title  \\\n",
       "0                      Apple MacBook Air M1 MGND3...   \n",
       "1                      Apple MacBook Air M1 MGNA3...   \n",
       "2                      Apple MacBook Air MQD32HN/...   \n",
       "3                      Apple MacBook Air M1 MGN93...   \n",
       "4                      Apple MacBook Air M1 MGN63...   \n",
       "\n",
       "                                                 url best_price Company  \n",
       "0  https://www.mysmartprice.com/computer/apple-ma...     71,990   Apple  \n",
       "1  https://www.mysmartprice.com/computer/apple-ma...     99,990   Apple  \n",
       "2  https://www.mysmartprice.com/computer/apple-ma...     67,990   Apple  \n",
       "3  https://www.mysmartprice.com/computer/apple-ma...     80,990   Apple  \n",
       "4  https://www.mysmartprice.com/computer/apple-ma...     72,590   Apple  "
      ]
     },
     "execution_count": 17,
     "metadata": {},
     "output_type": "execute_result"
    }
   ],
   "source": [
    "dataset['Company'] = dataset['title'].apply(lambda x:x.split()[0])\n",
    "dataset.head()"
   ]
  },
  {
   "cell_type": "code",
   "execution_count": 18,
   "metadata": {},
   "outputs": [
    {
     "name": "stdout",
     "output_type": "stream",
     "text": [
      "                    Apple MacBook Air M1 MGND3HN/A Ultrabook                \n"
     ]
    },
    {
     "data": {
      "text/plain": [
       "76"
      ]
     },
     "execution_count": 18,
     "metadata": {},
     "output_type": "execute_result"
    }
   ],
   "source": [
    "print(dataset['title'][0])\n",
    "len(dataset['title'][0])"
   ]
  },
  {
   "cell_type": "code",
   "execution_count": 19,
   "metadata": {},
   "outputs": [],
   "source": [
    "dataset['title'] =dataset['title'].str.strip()"
   ]
  },
  {
   "cell_type": "code",
   "execution_count": 20,
   "metadata": {},
   "outputs": [
    {
     "name": "stdout",
     "output_type": "stream",
     "text": [
      "Apple MacBook Air M1 MGND3HN/A Ultrabook\n"
     ]
    },
    {
     "data": {
      "text/plain": [
       "40"
      ]
     },
     "execution_count": 20,
     "metadata": {},
     "output_type": "execute_result"
    }
   ],
   "source": [
    "print(dataset['title'][0])\n",
    "len(dataset['title'][0])"
   ]
  },
  {
   "cell_type": "code",
   "execution_count": 21,
   "metadata": {},
   "outputs": [
    {
     "name": "stdout",
     "output_type": "stream",
     "text": [
      "https://assets.mspimages.in/logos/mysmartprice/owl/tr:w-70/lazy.png\n"
     ]
    },
    {
     "data": {
      "text/plain": [
       "67"
      ]
     },
     "execution_count": 21,
     "metadata": {},
     "output_type": "execute_result"
    }
   ],
   "source": [
    "print(dataset['img'][0])\n",
    "len(dataset['img'][0])"
   ]
  },
  {
   "cell_type": "code",
   "execution_count": 22,
   "metadata": {},
   "outputs": [],
   "source": [
    "dataset['img'] =dataset['img'].str.strip()"
   ]
  },
  {
   "cell_type": "code",
   "execution_count": 23,
   "metadata": {},
   "outputs": [
    {
     "name": "stdout",
     "output_type": "stream",
     "text": [
      "https://assets.mspimages.in/logos/mysmartprice/owl/tr:w-70/lazy.png\n"
     ]
    },
    {
     "data": {
      "text/plain": [
       "67"
      ]
     },
     "execution_count": 23,
     "metadata": {},
     "output_type": "execute_result"
    }
   ],
   "source": [
    "print(dataset['img'][0])\n",
    "len(dataset['img'][0])"
   ]
  },
  {
   "cell_type": "code",
   "execution_count": 24,
   "metadata": {},
   "outputs": [
    {
     "name": "stdout",
     "output_type": "stream",
     "text": [
      "71,990\n"
     ]
    },
    {
     "data": {
      "text/plain": [
       "6"
      ]
     },
     "execution_count": 24,
     "metadata": {},
     "output_type": "execute_result"
    }
   ],
   "source": [
    "print(dataset['best_price'][0])\n",
    "len(dataset['best_price'][0])"
   ]
  },
  {
   "cell_type": "code",
   "execution_count": 25,
   "metadata": {},
   "outputs": [
    {
     "name": "stdout",
     "output_type": "stream",
     "text": [
      "https://www.mysmartprice.com/computer/apple-macbook-air-m1-mgnd3hn-a-laptop-msf583278\n"
     ]
    },
    {
     "data": {
      "text/plain": [
       "85"
      ]
     },
     "execution_count": 25,
     "metadata": {},
     "output_type": "execute_result"
    }
   ],
   "source": [
    "print(dataset['url'][0])\n",
    "len(dataset['url'][0])"
   ]
  },
  {
   "cell_type": "code",
   "execution_count": 26,
   "metadata": {},
   "outputs": [],
   "source": [
    "dataset['url'] =dataset['url'].str.strip()"
   ]
  },
  {
   "cell_type": "code",
   "execution_count": 27,
   "metadata": {},
   "outputs": [
    {
     "data": {
      "text/plain": [
       "Company\n",
       "ASUS      1820\n",
       "Lenovo    1526\n",
       "HP        1408\n",
       "Dell       739\n",
       "Acer       685\n",
       "          ... \n",
       "Enter        1\n",
       "Lava         1\n",
       "AOXER        1\n",
       "MarQ         1\n",
       "PNY          1\n",
       "Name: count, Length: 108, dtype: int64"
      ]
     },
     "execution_count": 27,
     "metadata": {},
     "output_type": "execute_result"
    }
   ],
   "source": [
    "dataset['Company'].value_counts()"
   ]
  },
  {
   "cell_type": "code",
   "execution_count": 28,
   "metadata": {},
   "outputs": [
    {
     "data": {
      "text/html": [
       "<div>\n",
       "<style scoped>\n",
       "    .dataframe tbody tr th:only-of-type {\n",
       "        vertical-align: middle;\n",
       "    }\n",
       "\n",
       "    .dataframe tbody tr th {\n",
       "        vertical-align: top;\n",
       "    }\n",
       "\n",
       "    .dataframe thead th {\n",
       "        text-align: right;\n",
       "    }\n",
       "</style>\n",
       "<table border=\"1\" class=\"dataframe\">\n",
       "  <thead>\n",
       "    <tr style=\"text-align: right;\">\n",
       "      <th></th>\n",
       "      <th>img</th>\n",
       "      <th>title</th>\n",
       "      <th>url</th>\n",
       "      <th>best_price</th>\n",
       "      <th>Company</th>\n",
       "    </tr>\n",
       "  </thead>\n",
       "  <tbody>\n",
       "    <tr>\n",
       "      <th>0</th>\n",
       "      <td>https://assets.mspimages.in/logos/mysmartprice...</td>\n",
       "      <td>Apple MacBook Air M1 MGND3HN/A Ultrabook</td>\n",
       "      <td>https://www.mysmartprice.com/computer/apple-ma...</td>\n",
       "      <td>71,990</td>\n",
       "      <td>Apple</td>\n",
       "    </tr>\n",
       "    <tr>\n",
       "      <th>1</th>\n",
       "      <td>https://assets.mspimages.in/logos/mysmartprice...</td>\n",
       "      <td>Apple MacBook Air M1 MGNA3HN/A Ultrabook</td>\n",
       "      <td>https://www.mysmartprice.com/computer/apple-ma...</td>\n",
       "      <td>99,990</td>\n",
       "      <td>Apple</td>\n",
       "    </tr>\n",
       "    <tr>\n",
       "      <th>2</th>\n",
       "      <td>https://assets.mspimages.in/logos/mysmartprice...</td>\n",
       "      <td>Apple MacBook Air MQD32HN/A Ultrabook</td>\n",
       "      <td>https://www.mysmartprice.com/computer/apple-ma...</td>\n",
       "      <td>67,990</td>\n",
       "      <td>Apple</td>\n",
       "    </tr>\n",
       "    <tr>\n",
       "      <th>3</th>\n",
       "      <td>https://assets.mspimages.in/logos/mysmartprice...</td>\n",
       "      <td>Apple MacBook Air M1 MGN93HN/A Ultrabook</td>\n",
       "      <td>https://www.mysmartprice.com/computer/apple-ma...</td>\n",
       "      <td>80,990</td>\n",
       "      <td>Apple</td>\n",
       "    </tr>\n",
       "    <tr>\n",
       "      <th>4</th>\n",
       "      <td>https://assets.mspimages.in/logos/mysmartprice...</td>\n",
       "      <td>Apple MacBook Air M1 MGN63HN/A Ultrabook</td>\n",
       "      <td>https://www.mysmartprice.com/computer/apple-ma...</td>\n",
       "      <td>72,590</td>\n",
       "      <td>Apple</td>\n",
       "    </tr>\n",
       "  </tbody>\n",
       "</table>\n",
       "</div>"
      ],
      "text/plain": [
       "                                                 img  \\\n",
       "0  https://assets.mspimages.in/logos/mysmartprice...   \n",
       "1  https://assets.mspimages.in/logos/mysmartprice...   \n",
       "2  https://assets.mspimages.in/logos/mysmartprice...   \n",
       "3  https://assets.mspimages.in/logos/mysmartprice...   \n",
       "4  https://assets.mspimages.in/logos/mysmartprice...   \n",
       "\n",
       "                                      title  \\\n",
       "0  Apple MacBook Air M1 MGND3HN/A Ultrabook   \n",
       "1  Apple MacBook Air M1 MGNA3HN/A Ultrabook   \n",
       "2     Apple MacBook Air MQD32HN/A Ultrabook   \n",
       "3  Apple MacBook Air M1 MGN93HN/A Ultrabook   \n",
       "4  Apple MacBook Air M1 MGN63HN/A Ultrabook   \n",
       "\n",
       "                                                 url best_price Company  \n",
       "0  https://www.mysmartprice.com/computer/apple-ma...     71,990   Apple  \n",
       "1  https://www.mysmartprice.com/computer/apple-ma...     99,990   Apple  \n",
       "2  https://www.mysmartprice.com/computer/apple-ma...     67,990   Apple  \n",
       "3  https://www.mysmartprice.com/computer/apple-ma...     80,990   Apple  \n",
       "4  https://www.mysmartprice.com/computer/apple-ma...     72,590   Apple  "
      ]
     },
     "execution_count": 28,
     "metadata": {},
     "output_type": "execute_result"
    }
   ],
   "source": [
    "dataset['Company'] = dataset['Company'].str.capitalize()\n",
    "dataset.head()"
   ]
  },
  {
   "cell_type": "code",
   "execution_count": 29,
   "metadata": {},
   "outputs": [],
   "source": [
    "companies = ['Apple', 'Hp', 'Acer', 'Asus', 'Dell', 'Lenovo', 'Chuwi', 'Msi', 'Microsoft', 'Toshiba', 'Huawei', 'Xiaomi', 'Vero', 'Razer', 'Mediacom', 'Samsung', 'Google', 'Fujitsu', 'Lg']\n",
    "dataset = dataset[dataset['Company'].isin(companies)]"
   ]
  },
  {
   "cell_type": "code",
   "execution_count": 30,
   "metadata": {},
   "outputs": [
    {
     "data": {
      "text/plain": [
       "Company\n",
       "Asus         1820\n",
       "Lenovo       1526\n",
       "Hp           1408\n",
       "Dell          739\n",
       "Acer          685\n",
       "Msi           430\n",
       "Samsung       115\n",
       "Apple         114\n",
       "Microsoft      55\n",
       "Lg             34\n",
       "Fujitsu        20\n",
       "Xiaomi         13\n",
       "Toshiba        11\n",
       "Razer           6\n",
       "Huawei          5\n",
       "Name: count, dtype: int64"
      ]
     },
     "execution_count": 30,
     "metadata": {},
     "output_type": "execute_result"
    }
   ],
   "source": [
    "dataset['Company'].value_counts()"
   ]
  },
  {
   "cell_type": "code",
   "execution_count": 31,
   "metadata": {},
   "outputs": [
    {
     "name": "stdout",
     "output_type": "stream",
     "text": [
      "<class 'pandas.core.frame.DataFrame'>\n",
      "Index: 6981 entries, 0 to 7880\n",
      "Data columns (total 5 columns):\n",
      " #   Column      Non-Null Count  Dtype \n",
      "---  ------      --------------  ----- \n",
      " 0   img         6981 non-null   object\n",
      " 1   title       6981 non-null   object\n",
      " 2   url         6981 non-null   object\n",
      " 3   best_price  6959 non-null   object\n",
      " 4   Company     6981 non-null   object\n",
      "dtypes: object(5)\n",
      "memory usage: 327.2+ KB\n"
     ]
    }
   ],
   "source": [
    "dataset.info()"
   ]
  },
  {
   "cell_type": "code",
   "execution_count": 32,
   "metadata": {},
   "outputs": [],
   "source": [
    "dataset['best_price'] = dataset['best_price'].str.replace(',', '')\n",
    "dataset['best_price'] = dataset['best_price'].astype(float)"
   ]
  },
  {
   "cell_type": "code",
   "execution_count": 33,
   "metadata": {},
   "outputs": [
    {
     "name": "stdout",
     "output_type": "stream",
     "text": [
      "<class 'pandas.core.frame.DataFrame'>\n",
      "Index: 6981 entries, 0 to 7880\n",
      "Data columns (total 5 columns):\n",
      " #   Column      Non-Null Count  Dtype  \n",
      "---  ------      --------------  -----  \n",
      " 0   img         6981 non-null   object \n",
      " 1   title       6981 non-null   object \n",
      " 2   url         6981 non-null   object \n",
      " 3   best_price  6959 non-null   float64\n",
      " 4   Company     6981 non-null   object \n",
      "dtypes: float64(1), object(4)\n",
      "memory usage: 327.2+ KB\n"
     ]
    }
   ],
   "source": [
    "dataset.info()"
   ]
  },
  {
   "cell_type": "code",
   "execution_count": 34,
   "metadata": {},
   "outputs": [],
   "source": [
    "from sklearn.impute import SimpleImputer\n",
    "imputer = SimpleImputer(strategy='mean')\n",
    "\n",
    "# Reshape the pandas Series into a 2D array\n",
    "X = dataset['best_price'].values.reshape(-1, 1)\n",
    "\n",
    "# Fit and transform the data\n",
    "X_imputed = imputer.fit_transform(X)\n",
    "\n",
    "# Replace the original column with the imputed values\n",
    "dataset['best_price'] = X_imputed"
   ]
  },
  {
   "cell_type": "code",
   "execution_count": 35,
   "metadata": {},
   "outputs": [
    {
     "name": "stdout",
     "output_type": "stream",
     "text": [
      "<class 'pandas.core.frame.DataFrame'>\n",
      "Index: 6981 entries, 0 to 7880\n",
      "Data columns (total 5 columns):\n",
      " #   Column      Non-Null Count  Dtype  \n",
      "---  ------      --------------  -----  \n",
      " 0   img         6981 non-null   object \n",
      " 1   title       6981 non-null   object \n",
      " 2   url         6981 non-null   object \n",
      " 3   best_price  6981 non-null   float64\n",
      " 4   Company     6981 non-null   object \n",
      "dtypes: float64(1), object(4)\n",
      "memory usage: 327.2+ KB\n"
     ]
    }
   ],
   "source": [
    "dataset.info()"
   ]
  },
  {
   "cell_type": "code",
   "execution_count": 36,
   "metadata": {},
   "outputs": [
    {
     "data": {
      "text/html": [
       "<div>\n",
       "<style scoped>\n",
       "    .dataframe tbody tr th:only-of-type {\n",
       "        vertical-align: middle;\n",
       "    }\n",
       "\n",
       "    .dataframe tbody tr th {\n",
       "        vertical-align: top;\n",
       "    }\n",
       "\n",
       "    .dataframe thead th {\n",
       "        text-align: right;\n",
       "    }\n",
       "</style>\n",
       "<table border=\"1\" class=\"dataframe\">\n",
       "  <thead>\n",
       "    <tr style=\"text-align: right;\">\n",
       "      <th></th>\n",
       "      <th>img</th>\n",
       "      <th>title</th>\n",
       "      <th>url</th>\n",
       "      <th>best_price</th>\n",
       "      <th>Company</th>\n",
       "    </tr>\n",
       "  </thead>\n",
       "  <tbody>\n",
       "    <tr>\n",
       "      <th>0</th>\n",
       "      <td>https://assets.mspimages.in/logos/mysmartprice...</td>\n",
       "      <td>Apple MacBook Air M1 MGND3HN/A Ultrabook</td>\n",
       "      <td>https://www.mysmartprice.com/computer/apple-ma...</td>\n",
       "      <td>71990.0</td>\n",
       "      <td>Apple</td>\n",
       "    </tr>\n",
       "    <tr>\n",
       "      <th>1</th>\n",
       "      <td>https://assets.mspimages.in/logos/mysmartprice...</td>\n",
       "      <td>Apple MacBook Air M1 MGNA3HN/A Ultrabook</td>\n",
       "      <td>https://www.mysmartprice.com/computer/apple-ma...</td>\n",
       "      <td>99990.0</td>\n",
       "      <td>Apple</td>\n",
       "    </tr>\n",
       "    <tr>\n",
       "      <th>2</th>\n",
       "      <td>https://assets.mspimages.in/logos/mysmartprice...</td>\n",
       "      <td>Apple MacBook Air MQD32HN/A Ultrabook</td>\n",
       "      <td>https://www.mysmartprice.com/computer/apple-ma...</td>\n",
       "      <td>67990.0</td>\n",
       "      <td>Apple</td>\n",
       "    </tr>\n",
       "    <tr>\n",
       "      <th>3</th>\n",
       "      <td>https://assets.mspimages.in/logos/mysmartprice...</td>\n",
       "      <td>Apple MacBook Air M1 MGN93HN/A Ultrabook</td>\n",
       "      <td>https://www.mysmartprice.com/computer/apple-ma...</td>\n",
       "      <td>80990.0</td>\n",
       "      <td>Apple</td>\n",
       "    </tr>\n",
       "    <tr>\n",
       "      <th>4</th>\n",
       "      <td>https://assets.mspimages.in/logos/mysmartprice...</td>\n",
       "      <td>Apple MacBook Air M1 MGN63HN/A Ultrabook</td>\n",
       "      <td>https://www.mysmartprice.com/computer/apple-ma...</td>\n",
       "      <td>72590.0</td>\n",
       "      <td>Apple</td>\n",
       "    </tr>\n",
       "  </tbody>\n",
       "</table>\n",
       "</div>"
      ],
      "text/plain": [
       "                                                 img  \\\n",
       "0  https://assets.mspimages.in/logos/mysmartprice...   \n",
       "1  https://assets.mspimages.in/logos/mysmartprice...   \n",
       "2  https://assets.mspimages.in/logos/mysmartprice...   \n",
       "3  https://assets.mspimages.in/logos/mysmartprice...   \n",
       "4  https://assets.mspimages.in/logos/mysmartprice...   \n",
       "\n",
       "                                      title  \\\n",
       "0  Apple MacBook Air M1 MGND3HN/A Ultrabook   \n",
       "1  Apple MacBook Air M1 MGNA3HN/A Ultrabook   \n",
       "2     Apple MacBook Air MQD32HN/A Ultrabook   \n",
       "3  Apple MacBook Air M1 MGN93HN/A Ultrabook   \n",
       "4  Apple MacBook Air M1 MGN63HN/A Ultrabook   \n",
       "\n",
       "                                                 url  best_price Company  \n",
       "0  https://www.mysmartprice.com/computer/apple-ma...     71990.0   Apple  \n",
       "1  https://www.mysmartprice.com/computer/apple-ma...     99990.0   Apple  \n",
       "2  https://www.mysmartprice.com/computer/apple-ma...     67990.0   Apple  \n",
       "3  https://www.mysmartprice.com/computer/apple-ma...     80990.0   Apple  \n",
       "4  https://www.mysmartprice.com/computer/apple-ma...     72590.0   Apple  "
      ]
     },
     "execution_count": 36,
     "metadata": {},
     "output_type": "execute_result"
    }
   ],
   "source": [
    "dataset.head()"
   ]
  },
  {
   "cell_type": "code",
   "execution_count": 37,
   "metadata": {},
   "outputs": [],
   "source": [
    "import pickle\n",
    "pickle.dump(dataset,open('laptopList.pkl','wb'))"
   ]
  }
 ],
 "metadata": {
  "kernelspec": {
   "display_name": "Python 3",
   "language": "python",
   "name": "python3"
  },
  "language_info": {
   "codemirror_mode": {
    "name": "ipython",
    "version": 3
   },
   "file_extension": ".py",
   "mimetype": "text/x-python",
   "name": "python",
   "nbconvert_exporter": "python",
   "pygments_lexer": "ipython3",
   "version": "3.12.0"
  }
 },
 "nbformat": 4,
 "nbformat_minor": 2
}
